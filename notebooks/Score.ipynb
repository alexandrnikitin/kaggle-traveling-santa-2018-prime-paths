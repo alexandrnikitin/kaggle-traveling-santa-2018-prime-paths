{
 "cells": [
  {
   "cell_type": "code",
   "execution_count": 5,
   "metadata": {},
   "outputs": [
    {
     "name": "stdout",
     "output_type": "stream",
     "text": [
      "446884407.521\n"
     ]
    }
   ],
   "source": [
    "import numpy as np\n",
    "import pandas as pd\n",
    "from sympy import sieve\n",
    "\n",
    "# prep\n",
    "cities = pd.read_csv('../data/raw/cities.csv', index_col=['CityId'])\n",
    "pnums = list(sieve.primerange(0, cities.shape[0]))\n",
    "\n",
    "# function\n",
    "def score_it(path):\n",
    "    path_df = cities.reindex(path).reset_index()\n",
    "    path_df['step'] = np.sqrt((path_df.X - path_df.X.shift())**2 + (path_df.Y - path_df.Y.shift())**2)\n",
    "    path_df['step_adj'] = np.where((path_df.index) % 10 != 0, path_df.step, path_df.step + \n",
    "                            path_df.step*0.1*(~path_df.CityId.shift().isin(pnums)))\n",
    "    return path_df.step_adj.sum()\n",
    "\n",
    "# usage: path is array_like\n",
    "sub = pd.read_csv('../data/raw/sample_submission.csv')\n",
    "print(score_it(sub.Path.values))"
   ]
  }
 ],
 "metadata": {
  "kernelspec": {
   "display_name": "Python 3",
   "language": "python",
   "name": "python3"
  },
  "language_info": {
   "codemirror_mode": {
    "name": "ipython",
    "version": 3
   },
   "file_extension": ".py",
   "mimetype": "text/x-python",
   "name": "python",
   "nbconvert_exporter": "python",
   "pygments_lexer": "ipython3",
   "version": "3.6.4"
  }
 },
 "nbformat": 4,
 "nbformat_minor": 2
}
