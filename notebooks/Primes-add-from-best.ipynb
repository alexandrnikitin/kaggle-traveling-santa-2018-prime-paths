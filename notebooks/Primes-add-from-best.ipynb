{
 "cells": [
  {
   "cell_type": "code",
   "execution_count": 1,
   "metadata": {},
   "outputs": [],
   "source": [
    "import numpy as np\n",
    "import pandas as pd\n",
    "import matplotlib as mpl\n",
    "import matplotlib.pyplot as plt\n",
    "import sympy\n",
    "\n",
    "%matplotlib inline"
   ]
  },
  {
   "cell_type": "code",
   "execution_count": 6,
   "metadata": {},
   "outputs": [],
   "source": [
    "df = pd.read_csv('../data/raw/cities.csv', index_col=['CityId'])\n",
    "primes = list(sympy.primerange(0, max(df.index)))\n",
    "df['prime'] = df.index.isin(primes).astype(int)"
   ]
  },
  {
   "cell_type": "code",
   "execution_count": 7,
   "metadata": {},
   "outputs": [],
   "source": [
    "df_prime = df[(df.index == 0) | df['prime'] == 1]"
   ]
  },
  {
   "cell_type": "code",
   "execution_count": 8,
   "metadata": {},
   "outputs": [],
   "source": [
    "def read_link(filename):\n",
    "    data = open(filename, 'r').read()\n",
    "    data = data.replace('\\n', ' ')\n",
    "    data = np.fromstring(data, sep=' ', dtype=np.int32)\n",
    "    if len(data) != data[0] + 1:\n",
    "        raise Exception('Unrecognized format in %s' % filename)\n",
    "    return np.concatenate((data[1:], [0]))"
   ]
  },
  {
   "cell_type": "code",
   "execution_count": 9,
   "metadata": {},
   "outputs": [],
   "source": [
    "tour_data = read_link('prime.tour')\n",
    "tour_data_2 = np.array([df_prime.index[x] for x in tour_data])"
   ]
  },
  {
   "cell_type": "code",
   "execution_count": 18,
   "metadata": {},
   "outputs": [
    {
     "data": {
      "text/plain": [
       "array([     0,   5333,  97649, ..., 148853, 153911,      0])"
      ]
     },
     "execution_count": 18,
     "metadata": {},
     "output_type": "execute_result"
    }
   ],
   "source": [
    "tour_data_2"
   ]
  },
  {
   "cell_type": "code",
   "execution_count": 13,
   "metadata": {},
   "outputs": [],
   "source": [
    "def read_submission(filename):\n",
    "    data = open(filename, 'r').read()\n",
    "    data = data.replace('Path', '')\n",
    "    data = data.replace('\\n', ' ')\n",
    "    data = np.fromstring(data, sep=' ', dtype=np.int32)\n",
    "    return data"
   ]
  },
  {
   "cell_type": "code",
   "execution_count": 15,
   "metadata": {},
   "outputs": [],
   "source": [
    "best_tour = read_submission('submission.151557248.csv')"
   ]
  },
  {
   "cell_type": "code",
   "execution_count": 16,
   "metadata": {},
   "outputs": [
    {
     "data": {
      "text/plain": [
       "197770"
      ]
     },
     "execution_count": 16,
     "metadata": {},
     "output_type": "execute_result"
    }
   ],
   "source": [
    "best_tour.size"
   ]
  },
  {
   "cell_type": "code",
   "execution_count": 35,
   "metadata": {},
   "outputs": [
    {
     "data": {
      "text/plain": [
       "28"
      ]
     },
     "execution_count": 35,
     "metadata": {},
     "output_type": "execute_result"
    }
   ],
   "source": [
    "si = tour_data_2[2]\n",
    "ei = tour_data_2[3]\n",
    "bsi = np.where(best_tour==si)[0][0]\n",
    "bei = np.where(best_tour==ei)[0][0]\n",
    "bei - bsi"
   ]
  },
  {
   "cell_type": "code",
   "execution_count": 33,
   "metadata": {},
   "outputs": [
    {
     "name": "stdout",
     "output_type": "stream",
     "text": [
      "594\n"
     ]
    }
   ],
   "source": [
    "c=0\n",
    "for i in range(tour_data_2.size-1):\n",
    "    si = tour_data_2[i]\n",
    "    ei = tour_data_2[i+1]\n",
    "    bsi = np.where(best_tour==si)[0][0]\n",
    "    bei = np.where(best_tour==ei)[0][0]\n",
    "    if abs(bei - bsi) == 5:\n",
    "        c+=1\n",
    "        \n",
    "print(c)"
   ]
  }
 ],
 "metadata": {
  "kernelspec": {
   "display_name": "Python 3",
   "language": "python",
   "name": "python3"
  },
  "language_info": {
   "codemirror_mode": {
    "name": "ipython",
    "version": 3
   },
   "file_extension": ".py",
   "mimetype": "text/x-python",
   "name": "python",
   "nbconvert_exporter": "python",
   "pygments_lexer": "ipython3",
   "version": "3.6.4"
  }
 },
 "nbformat": 4,
 "nbformat_minor": 2
}
