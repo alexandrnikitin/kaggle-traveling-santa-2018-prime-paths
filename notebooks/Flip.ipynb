{
 "cells": [
  {
   "cell_type": "code",
   "execution_count": 2,
   "metadata": {},
   "outputs": [
    {
     "name": "stdout",
     "output_type": "stream",
     "text": [
      "Tour path (0-5): [0, 1, 2, 3, 4]\n",
      "Flipped tour path (0-5): [0, 197768, 197767, 197766, 197765]\n",
      "Score of original tour: 446884407.521\n",
      "Score of flipped tour: 447882971.603\n"
     ]
    }
   ],
   "source": [
    "import pandas as pd\n",
    "tour = pd.read_csv('../data/raw/sample_submission.csv')['Path'].tolist()\n",
    "cities = pd.read_csv('../data/raw/cities.csv')\n",
    "\n",
    "# Define a function for length of a path:\n",
    "import numpy as np\n",
    "from sympy import primerange\n",
    "primes = list(primerange(0, len(cities)))\n",
    "def score_tour(tour):\n",
    "    # length of any given tour with primes calculation\n",
    "    df = cities.reindex(tour + [0]).reset_index()\n",
    "    df['prime'] = df.CityId.isin(primes).astype(int)\n",
    "    df['dist'] = np.hypot(df.X - df.X.shift(-1), df.Y - df.Y.shift(-1))\n",
    "    df['penalty'] = df['dist'][9::10] * (1 - df['prime'][9::10]) * 0.1\n",
    "    return df.dist.sum() + df.penalty.sum()\n",
    "\n",
    "# Let's take a look at our tour\n",
    "print(\"Tour path (0-5):\",tour[0:5])\n",
    "# And the flipped tour looks like:\n",
    "tourflip = tour[::-1]\n",
    "print(\"Flipped tour path (0-5):\", tourflip[0:5])\n",
    "# The scores of our tours are:\n",
    "print(\"Score of original tour:\", score_tour(tour))\n",
    "print(\"Score of flipped tour:\", score_tour(tourflip))\n",
    "\n",
    "# If the flipped tour is quicker, change our tour:\n",
    "if score_tour(tourflip) < score_tour(tour):\n",
    "    print(\"The total improvement was:\", abs(score_tour(tourflip) - score_tour(tour)))\n",
    "    tour = tourflip \n",
    "    print(\"The better of the original/flipped tour is:\", tour[0:5])\n",
    "\n",
    "# pd.DataFrame({'Path': list(tour)}).to_csv('submission.csv', index=False)"
   ]
  }
 ],
 "metadata": {
  "kernelspec": {
   "display_name": "Python 3",
   "language": "python",
   "name": "python3"
  },
  "language_info": {
   "codemirror_mode": {
    "name": "ipython",
    "version": 3
   },
   "file_extension": ".py",
   "mimetype": "text/x-python",
   "name": "python",
   "nbconvert_exporter": "python",
   "pygments_lexer": "ipython3",
   "version": "3.6.4"
  }
 },
 "nbformat": 4,
 "nbformat_minor": 2
}
