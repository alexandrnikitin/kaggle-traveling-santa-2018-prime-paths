{
 "cells": [
  {
   "cell_type": "code",
   "execution_count": 1,
   "metadata": {},
   "outputs": [],
   "source": [
    "import numpy as np\n",
    "import pandas as pd\n",
    "import matplotlib as mpl\n",
    "import matplotlib.pyplot as plt\n",
    "import sympy\n",
    "from sympy import isprime\n",
    "import numba\n",
    "\n",
    "%matplotlib inline"
   ]
  },
  {
   "cell_type": "code",
   "execution_count": 2,
   "metadata": {},
   "outputs": [],
   "source": [
    "initial_path = pd.read_csv('submission.151557248.csv')\n",
    "df = pd.read_csv('../data/raw/cities.csv', index_col=['CityId'], dtype={'X': np.float32, 'Y': np.float32})\n",
    "primes = list(sympy.primerange(0, max(df.index)))\n",
    "\n",
    "df_path = df.reindex(initial_path['Path']).reset_index()"
   ]
  },
  {
   "cell_type": "code",
   "execution_count": 3,
   "metadata": {},
   "outputs": [],
   "source": [
    "from math import sqrt\n",
    "\n",
    "XY = np.stack((df.X.astype(np.float32), df.Y.astype(np.float32)), axis=1)\n",
    "is_not_prime = np.array([not isprime(city_id) for city_id in df.index], dtype=np.int32)\n",
    "\n",
    "@numba.jit('f8(i8[:])', nopython=True, parallel=False)\n",
    "def pure_score(path):\n",
    "    '''Pure path score without penalties.'''\n",
    "    dist = 0.0\n",
    "    for i in numba.prange(path.shape[0] - 1):\n",
    "        a, b = XY[path[i]], XY[path[i+1]]\n",
    "        dx, dy = a[0] - b[0], a[1] - b[1]\n",
    "        dist += sqrt(dx * dx + dy * dy)\n",
    "    return dist\n",
    "\n",
    "\n",
    "@numba.jit('f8(i4, i8[:])', nopython=True, parallel=False)\n",
    "def chunk_score(start_offset, chunk):\n",
    "    '''Score of path's chunk that starts at index 'start_offset'.'''\n",
    "    dist = 0.0\n",
    "    penalty = 0.0\n",
    "    penalty_modulo = 9 - start_offset % 10\n",
    "    for i in numba.prange(chunk.shape[0] - 1):\n",
    "        id_a = chunk[i]\n",
    "        a, b = XY[id_a], XY[chunk[i+1]]\n",
    "        dx, dy = a[0] - b[0], a[1] - b[1]\n",
    "        d = sqrt(dx * dx + dy * dy)\n",
    "        dist += d\n",
    "        if i % 10 == penalty_modulo and is_not_prime[id_a]:\n",
    "            penalty += d\n",
    "    return dist + 0.1 * penalty\n",
    "\n",
    "\n",
    "@numba.jit('f8(i8[:])', nopython=True, parallel=False)\n",
    "def path_score(path):\n",
    "    return chunk_score(0, path)"
   ]
  },
  {
   "cell_type": "code",
   "execution_count": 4,
   "metadata": {},
   "outputs": [],
   "source": [
    "def write_tsp(cities, filename, name='traveling-santa-2018-prime-paths'):\n",
    "    with open(filename, 'w') as f:\n",
    "        f.write('NAME : %s\\n' % name)\n",
    "        f.write('COMMENT : %s\\n' % name)\n",
    "        f.write('TYPE : TSP\\n')\n",
    "        f.write('DIMENSION : %d\\n' % len(cities))\n",
    "        f.write('EDGE_WEIGHT_TYPE : EUC_2D\\n')\n",
    "        f.write('NODE_COORD_SECTION\\n')\n",
    "        for row in cities.itertuples():\n",
    "            f.write('%d %.11f %.11f\\n' % (row.Index, row.X, row.Y))\n",
    "        f.write('EOF\\n')"
   ]
  },
  {
   "cell_type": "code",
   "execution_count": 5,
   "metadata": {},
   "outputs": [],
   "source": [
    "def read_link(filename):\n",
    "    data = open(filename, 'r').read()\n",
    "    data = data.replace('\\n', ' ')\n",
    "    data = np.fromstring(data, sep=' ', dtype=np.int32)\n",
    "    if len(data) != data[0] + 1:\n",
    "        raise Exception('Unrecognized format in %s' % filename)\n",
    "    return data[1:]"
   ]
  },
  {
   "cell_type": "code",
   "execution_count": null,
   "metadata": {},
   "outputs": [],
   "source": [
    "def calc_chunk(df_chunk):\n",
    "    write_tsp(df_chunk, 'temp_chunk.tsp')\n",
    "    !./linkern -s 42 -S temp_chunk.tour -R 999999999 -t 60 ./temp_chunk.tsp >linkern.log\n",
    "    tour_data = read_link('temp_chunk.tour')\n",
    "    tour_data_2 = np.array([df_chunk.index[x] for x in tour_data])\n",
    "    return tour_data_2"
   ]
  },
  {
   "cell_type": "code",
   "execution_count": null,
   "metadata": {},
   "outputs": [],
   "source": [
    "df_path_best = df_path.copy()\n",
    "\n",
    "for i in range(1000):\n",
    "    chunk = df_path[i:i+20]\n",
    "    new_chunk = calc_chunk(chunk)\n",
    "    score = chunk_score(i, chunk['Path'].values)\n",
    "    score_new = chunk_score(i, df_path['Path'].loc[new_chunk].values)\n",
    "    if score_new < score:\n",
    "        print(\"!!\")"
   ]
  },
  {
   "cell_type": "code",
   "execution_count": null,
   "metadata": {},
   "outputs": [],
   "source": []
  }
 ],
 "metadata": {
  "kernelspec": {
   "display_name": "Python 3",
   "language": "python",
   "name": "python3"
  },
  "language_info": {
   "codemirror_mode": {
    "name": "ipython",
    "version": 3
   },
   "file_extension": ".py",
   "mimetype": "text/x-python",
   "name": "python",
   "nbconvert_exporter": "python",
   "pygments_lexer": "ipython3",
   "version": "3.6.4"
  }
 },
 "nbformat": 4,
 "nbformat_minor": 2
}
