{
 "cells": [
  {
   "cell_type": "markdown",
   "metadata": {
    "_uuid": "b7448dcf554759b39439554c56f094f8a1919bd3"
   },
   "source": [
    "### 1. Define scoring functions"
   ]
  },
  {
   "cell_type": "markdown",
   "metadata": {
    "_uuid": "b2ba914b6e850f456e0135a7b9d06f6cc7b0c95f"
   },
   "source": [
    "#### Import all the stuff"
   ]
  },
  {
   "cell_type": "code",
   "execution_count": 1,
   "metadata": {
    "_cell_guid": "b1076dfc-b9ad-4769-8c92-a6c4dae69d19",
    "_uuid": "8f2839f25d086af736a60e9eeb907d3b93b6e0e5"
   },
   "outputs": [],
   "source": [
    "import numpy as np\n",
    "import pandas as pd\n",
    "import numba\n",
    "from sympy import isprime\n",
    "from math import sqrt"
   ]
  },
  {
   "cell_type": "markdown",
   "metadata": {
    "_uuid": "ab3236e2f2681e0024510c756b369e93186c33de"
   },
   "source": [
    "#### Read the cities"
   ]
  },
  {
   "cell_type": "code",
   "execution_count": 2,
   "metadata": {
    "_uuid": "e2d7ca7a9d6dbb94a0f51e0d4a079a83287a54f2"
   },
   "outputs": [],
   "source": [
    "cities = pd.read_csv('../data/raw/cities.csv', index_col=['CityId'])"
   ]
  },
  {
   "cell_type": "markdown",
   "metadata": {
    "_uuid": "378f85cde3421669117c86271372cd7e0b375e63"
   },
   "source": [
    "#### Define scoring functions"
   ]
  },
  {
   "cell_type": "code",
   "execution_count": 3,
   "metadata": {
    "_uuid": "cbc5257530c8cf7a568c41c8fae59ca9b967ad65"
   },
   "outputs": [],
   "source": [
    "XY = np.stack((cities.X.astype(np.float32), cities.Y.astype(np.float32)), axis=1)\n",
    "is_not_prime = np.array([not isprime(city_id) for city_id in cities.index], dtype=np.int32)\n",
    "\n",
    "@numba.jit('f8(i8[:])', nopython=True, parallel=False)\n",
    "def pure_score(path):\n",
    "    '''Pure path score without penalties.'''\n",
    "    dist = 0.0\n",
    "    for i in numba.prange(path.shape[0] - 1):\n",
    "        a, b = XY[path[i]], XY[path[i+1]]\n",
    "        dx, dy = a[0] - b[0], a[1] - b[1]\n",
    "        dist += sqrt(dx * dx + dy * dy)\n",
    "    return dist\n",
    "\n",
    "\n",
    "@numba.jit('f8(i4, i8[:])', nopython=True, parallel=False)\n",
    "def chunk_score(start_offset, chunk):\n",
    "    '''Score of path's chunk that starts at index 'start_offset'.'''\n",
    "    dist = 0.0\n",
    "    penalty = 0.0\n",
    "    penalty_modulo = 9 - start_offset % 10\n",
    "    for i in numba.prange(chunk.shape[0] - 1):\n",
    "        id_a = chunk[i]\n",
    "        a, b = XY[id_a], XY[chunk[i+1]]\n",
    "        dx, dy = a[0] - b[0], a[1] - b[1]\n",
    "        d = sqrt(dx * dx + dy * dy)\n",
    "        dist += d\n",
    "        if i % 10 == penalty_modulo and is_not_prime[id_a]:\n",
    "            penalty += d\n",
    "    return dist + 0.1 * penalty\n",
    "\n",
    "\n",
    "@numba.jit('f8(i8[:])', nopython=True, parallel=False)\n",
    "def path_score(path):\n",
    "    return chunk_score(0, path)\n"
   ]
  },
  {
   "cell_type": "markdown",
   "metadata": {
    "_uuid": "cdaedd4b6e209e0279379cfaabc52618e7423078"
   },
   "source": [
    "### 2. Test scoring functions' performance"
   ]
  },
  {
   "cell_type": "markdown",
   "metadata": {
    "_uuid": "4a425d9f66232e9907bf22edd722877b23fcaadd"
   },
   "source": [
    "#### Define some silly Rudolph's path"
   ]
  },
  {
   "cell_type": "code",
   "execution_count": 4,
   "metadata": {
    "_uuid": "93355e92fb3a9dc8952fe9936e55a5f3b5916852"
   },
   "outputs": [],
   "source": [
    "path = np.concatenate([cities.index, [0]])"
   ]
  },
  {
   "cell_type": "code",
   "execution_count": 7,
   "metadata": {},
   "outputs": [
    {
     "data": {
      "text/plain": [
       "array([42, 43, 44, 45, 46, 47, 48, 49, 50, 51, 52, 53, 54, 55, 56, 57, 58,\n",
       "       59, 60, 61, 62, 63, 64, 65, 66, 67, 68, 69, 70, 71, 72, 73, 74, 75,\n",
       "       76, 77, 78, 79, 80, 81, 82, 83, 84, 85, 86, 87, 88, 89, 90, 91, 92,\n",
       "       93, 94, 95, 96, 97, 98, 99])"
      ]
     },
     "execution_count": 7,
     "metadata": {},
     "output_type": "execute_result"
    }
   ],
   "source": [
    "path[42:100]"
   ]
  },
  {
   "cell_type": "markdown",
   "metadata": {
    "_uuid": "c3142d7c5eed5654a4e69997b7915f3aaba9a3f1"
   },
   "source": [
    "#### Measure functions' performance\n"
   ]
  },
  {
   "cell_type": "code",
   "execution_count": 5,
   "metadata": {
    "_uuid": "597e54df12b246463a5b4c72942ef1ccd6b930c5"
   },
   "outputs": [
    {
     "name": "stdout",
     "output_type": "stream",
     "text": [
      "1.41 ms ± 154 µs per loop (mean ± std. dev. of 7 runs, 1000 loops each)\n"
     ]
    }
   ],
   "source": [
    "%timeit pure_score(path)"
   ]
  },
  {
   "cell_type": "code",
   "execution_count": 6,
   "metadata": {
    "_uuid": "aa1acbe64c97ee1ad4cfc02e5c1b69914bf13671"
   },
   "outputs": [
    {
     "name": "stdout",
     "output_type": "stream",
     "text": [
      "2.82 ms ± 94.6 µs per loop (mean ± std. dev. of 7 runs, 100 loops each)\n"
     ]
    }
   ],
   "source": [
    "%timeit path_score(path)"
   ]
  },
  {
   "cell_type": "code",
   "execution_count": 7,
   "metadata": {
    "_uuid": "46c8fd1e63cc8fb6cd4043fe86e56afa2148127a"
   },
   "outputs": [
    {
     "name": "stdout",
     "output_type": "stream",
     "text": [
      "28.4 µs ± 1.06 µs per loop (mean ± std. dev. of 7 runs, 10000 loops each)\n"
     ]
    }
   ],
   "source": [
    "%timeit chunk_score(42, path[42:2019])"
   ]
  },
  {
   "cell_type": "code",
   "execution_count": null,
   "metadata": {},
   "outputs": [],
   "source": []
  }
 ],
 "metadata": {
  "kernelspec": {
   "display_name": "Python 3",
   "language": "python",
   "name": "python3"
  },
  "language_info": {
   "codemirror_mode": {
    "name": "ipython",
    "version": 3
   },
   "file_extension": ".py",
   "mimetype": "text/x-python",
   "name": "python",
   "nbconvert_exporter": "python",
   "pygments_lexer": "ipython3",
   "version": "3.6.4"
  }
 },
 "nbformat": 4,
 "nbformat_minor": 1
}
