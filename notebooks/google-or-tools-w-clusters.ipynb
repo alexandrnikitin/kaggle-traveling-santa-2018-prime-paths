{
 "cells": [
  {
   "cell_type": "code",
   "execution_count": 12,
   "metadata": {},
   "outputs": [
    {
     "name": "stdout",
     "output_type": "stream",
     "text": [
      "Requirement already satisfied: datashader in /opt/conda/lib/python3.6/site-packages\n",
      "Requirement already satisfied: param>=1.6.0 in /opt/conda/lib/python3.6/site-packages (from datashader)\n",
      "Requirement already satisfied: colorcet>=0.9.0 in /opt/conda/lib/python3.6/site-packages (from datashader)\n",
      "Requirement already satisfied: pillow>=3.1.1 in /opt/conda/lib/python3.6/site-packages (from datashader)\n",
      "Requirement already satisfied: pyct[cmd] in /opt/conda/lib/python3.6/site-packages (from datashader)\n",
      "Requirement already satisfied: datashape>=0.5.1 in /opt/conda/lib/python3.6/site-packages (from datashader)\n",
      "Requirement already satisfied: dask[complete]>=0.15.4 in /opt/conda/lib/python3.6/site-packages (from datashader)\n",
      "Requirement already satisfied: scipy in /opt/conda/lib/python3.6/site-packages (from datashader)\n",
      "Requirement already satisfied: numpy>=1.7 in /opt/conda/lib/python3.6/site-packages (from datashader)\n",
      "Requirement already satisfied: xarray>=0.9.6 in /opt/conda/lib/python3.6/site-packages (from datashader)\n",
      "Requirement already satisfied: bokeh in /opt/conda/lib/python3.6/site-packages (from datashader)\n",
      "Requirement already satisfied: toolz>=0.7.4 in /opt/conda/lib/python3.6/site-packages (from datashader)\n",
      "Requirement already satisfied: numba>=0.37.0 in /opt/conda/lib/python3.6/site-packages (from datashader)\n",
      "Requirement already satisfied: scikit-image in /opt/conda/lib/python3.6/site-packages (from datashader)\n",
      "Requirement already satisfied: pandas>=0.20.3 in /opt/conda/lib/python3.6/site-packages (from datashader)\n",
      "Requirement already satisfied: olefile in /opt/conda/lib/python3.6/site-packages (from pillow>=3.1.1->datashader)\n",
      "Requirement already satisfied: requests; extra == \"cmd\" in /opt/conda/lib/python3.6/site-packages (from pyct[cmd]->datashader)\n",
      "Requirement already satisfied: pyyaml; extra == \"cmd\" in /opt/conda/lib/python3.6/site-packages (from pyct[cmd]->datashader)\n",
      "Requirement already satisfied: multipledispatch>=0.4.7 in /opt/conda/lib/python3.6/site-packages (from datashape>=0.5.1->datashader)\n",
      "Requirement already satisfied: python-dateutil in /opt/conda/lib/python3.6/site-packages (from datashape>=0.5.1->datashader)\n",
      "Requirement already satisfied: cloudpickle>=0.2.1 in /opt/conda/lib/python3.6/site-packages (from dask[complete]>=0.15.4->datashader)\n",
      "Requirement already satisfied: distributed>=1.20 in /opt/conda/lib/python3.6/site-packages (from dask[complete]>=0.15.4->datashader)\n",
      "Requirement already satisfied: partd>=0.3.8 in /opt/conda/lib/python3.6/site-packages (from dask[complete]>=0.15.4->datashader)\n",
      "Requirement already satisfied: tornado>=4.3 in /opt/conda/lib/python3.6/site-packages (from bokeh->datashader)\n",
      "Requirement already satisfied: six>=1.5.2 in /opt/conda/lib/python3.6/site-packages (from bokeh->datashader)\n",
      "Requirement already satisfied: packaging>=16.8 in /opt/conda/lib/python3.6/site-packages (from bokeh->datashader)\n",
      "Requirement already satisfied: Jinja2>=2.7 in /opt/conda/lib/python3.6/site-packages (from bokeh->datashader)\n",
      "Requirement already satisfied: llvmlite>=0.26.0dev0 in /opt/conda/lib/python3.6/site-packages (from numba>=0.37.0->datashader)\n",
      "Requirement already satisfied: matplotlib>=1.3.1 in /opt/conda/lib/python3.6/site-packages (from scikit-image->datashader)\n",
      "Requirement already satisfied: networkx>=1.8 in /opt/conda/lib/python3.6/site-packages (from scikit-image->datashader)\n",
      "Requirement already satisfied: pytz>=2011k in /opt/conda/lib/python3.6/site-packages (from pandas>=0.20.3->datashader)\n",
      "Requirement already satisfied: chardet<3.1.0,>=3.0.2 in /opt/conda/lib/python3.6/site-packages (from requests; extra == \"cmd\"->pyct[cmd]->datashader)\n",
      "Requirement already satisfied: idna<2.7,>=2.5 in /opt/conda/lib/python3.6/site-packages (from requests; extra == \"cmd\"->pyct[cmd]->datashader)\n",
      "Requirement already satisfied: urllib3<1.23,>=1.21.1 in /opt/conda/lib/python3.6/site-packages (from requests; extra == \"cmd\"->pyct[cmd]->datashader)\n",
      "Requirement already satisfied: certifi>=2017.4.17 in /opt/conda/lib/python3.6/site-packages (from requests; extra == \"cmd\"->pyct[cmd]->datashader)\n",
      "Requirement already satisfied: click>=6.6 in /opt/conda/lib/python3.6/site-packages (from distributed>=1.20->dask[complete]>=0.15.4->datashader)\n",
      "Requirement already satisfied: msgpack-python in /opt/conda/lib/python3.6/site-packages (from distributed>=1.20->dask[complete]>=0.15.4->datashader)\n",
      "Requirement already satisfied: psutil in /opt/conda/lib/python3.6/site-packages (from distributed>=1.20->dask[complete]>=0.15.4->datashader)\n",
      "Requirement already satisfied: sortedcontainers in /opt/conda/lib/python3.6/site-packages (from distributed>=1.20->dask[complete]>=0.15.4->datashader)\n",
      "Requirement already satisfied: tblib in /opt/conda/lib/python3.6/site-packages (from distributed>=1.20->dask[complete]>=0.15.4->datashader)\n",
      "Requirement already satisfied: zict>=0.1.3 in /opt/conda/lib/python3.6/site-packages (from distributed>=1.20->dask[complete]>=0.15.4->datashader)\n",
      "Requirement already satisfied: locket in /opt/conda/lib/python3.6/site-packages (from partd>=0.3.8->dask[complete]>=0.15.4->datashader)\n",
      "Requirement already satisfied: pyparsing>=2.0.2 in /opt/conda/lib/python3.6/site-packages (from packaging>=16.8->bokeh->datashader)\n",
      "Requirement already satisfied: MarkupSafe>=0.23 in /opt/conda/lib/python3.6/site-packages (from Jinja2>=2.7->bokeh->datashader)\n",
      "Requirement already satisfied: cycler>=0.10 in /opt/conda/lib/python3.6/site-packages/cycler-0.10.0-py3.6.egg (from matplotlib>=1.3.1->scikit-image->datashader)\n",
      "Requirement already satisfied: decorator>=4.1.0 in /opt/conda/lib/python3.6/site-packages (from networkx>=1.8->scikit-image->datashader)\n",
      "Requirement already satisfied: heapdict in /opt/conda/lib/python3.6/site-packages (from zict>=0.1.3->distributed>=1.20->dask[complete]>=0.15.4->datashader)\n",
      "\u001b[33mYou are using pip version 9.0.1, however version 18.1 is available.\n",
      "You should consider upgrading via the 'pip install --upgrade pip' command.\u001b[0m\n"
     ]
    }
   ],
   "source": [
    "!pip install datashader"
   ]
  },
  {
   "cell_type": "code",
   "execution_count": 7,
   "metadata": {},
   "outputs": [
    {
     "name": "stdout",
     "output_type": "stream",
     "text": [
      "Collecting xarray\n",
      "  Downloading https://files.pythonhosted.org/packages/ab/f3/c3b45f15a82d7c89cbb6f0726d047d5d2b0ec8d1933731c125ac45a38b3d/xarray-0.11.0-py2.py3-none-any.whl (490kB)\n",
      "\u001b[K    100% |████████████████████████████████| 491kB 704kB/s eta 0:00:01\n",
      "\u001b[?25hRequirement already satisfied: numpy>=1.12 in /opt/conda/lib/python3.6/site-packages (from xarray)\n",
      "Requirement already satisfied: pandas>=0.19.2 in /opt/conda/lib/python3.6/site-packages (from xarray)\n",
      "Requirement already satisfied: python-dateutil>=2 in /opt/conda/lib/python3.6/site-packages (from pandas>=0.19.2->xarray)\n",
      "Requirement already satisfied: pytz>=2011k in /opt/conda/lib/python3.6/site-packages (from pandas>=0.19.2->xarray)\n",
      "Requirement already satisfied: six>=1.5 in /opt/conda/lib/python3.6/site-packages (from python-dateutil>=2->pandas>=0.19.2->xarray)\n",
      "Installing collected packages: xarray\n",
      "Successfully installed xarray-0.11.0\n",
      "\u001b[33mYou are using pip version 9.0.1, however version 18.1 is available.\n",
      "You should consider upgrading via the 'pip install --upgrade pip' command.\u001b[0m\n"
     ]
    }
   ],
   "source": [
    "!pip install xarray"
   ]
  },
  {
   "cell_type": "code",
   "execution_count": 4,
   "metadata": {},
   "outputs": [
    {
     "name": "stdout",
     "output_type": "stream",
     "text": [
      "Collecting colorcet\n",
      "  Downloading https://files.pythonhosted.org/packages/1f/eb/428731f7d86ca2a3cc9d100155732b42854344db58e9c54b9f44419a2565/colorcet-0.9.1.tar.gz (115kB)\n",
      "\u001b[K    100% |████████████████████████████████| 122kB 2.3MB/s ta 0:00:01\n",
      "\u001b[?25hBuilding wheels for collected packages: colorcet\n",
      "  Running setup.py bdist_wheel for colorcet ... \u001b[?25ldone\n",
      "\u001b[?25h  Stored in directory: /home/jovyan/.cache/pip/wheels/66/40/ff/e376873956973b2272325f670e4ead84820170de9770cb89f4\n",
      "Successfully built colorcet\n",
      "Installing collected packages: colorcet\n",
      "Successfully installed colorcet-0.9.1\n",
      "\u001b[33mYou are using pip version 9.0.1, however version 18.1 is available.\n",
      "You should consider upgrading via the 'pip install --upgrade pip' command.\u001b[0m\n"
     ]
    }
   ],
   "source": [
    "!pip install colorcet"
   ]
  },
  {
   "cell_type": "code",
   "execution_count": 2,
   "metadata": {},
   "outputs": [
    {
     "name": "stdout",
     "output_type": "stream",
     "text": [
      "Requirement already satisfied: hvplot in /opt/conda/lib/python3.6/site-packages\n",
      "Requirement already satisfied: pandas in /opt/conda/lib/python3.6/site-packages (from hvplot)\n",
      "Requirement already satisfied: holoviews>=1.10.5 in /opt/conda/lib/python3.6/site-packages (from hvplot)\n",
      "Requirement already satisfied: bokeh>=0.12.15 in /opt/conda/lib/python3.6/site-packages (from hvplot)\n",
      "Requirement already satisfied: pytz>=2011k in /opt/conda/lib/python3.6/site-packages (from pandas->hvplot)\n",
      "Requirement already satisfied: numpy>=1.9.0 in /opt/conda/lib/python3.6/site-packages (from pandas->hvplot)\n",
      "Requirement already satisfied: python-dateutil>=2.5.0 in /opt/conda/lib/python3.6/site-packages (from pandas->hvplot)\n",
      "Requirement already satisfied: param<2.0,>=1.6.1 in /opt/conda/lib/python3.6/site-packages (from holoviews>=1.10.5->hvplot)\n",
      "Requirement already satisfied: pyviz-comms>=0.6.0 in /opt/conda/lib/python3.6/site-packages (from holoviews>=1.10.5->hvplot)\n",
      "Requirement already satisfied: Jinja2>=2.7 in /opt/conda/lib/python3.6/site-packages (from bokeh>=0.12.15->hvplot)\n",
      "Requirement already satisfied: PyYAML>=3.10 in /opt/conda/lib/python3.6/site-packages (from bokeh>=0.12.15->hvplot)\n",
      "Requirement already satisfied: tornado>=4.3 in /opt/conda/lib/python3.6/site-packages (from bokeh>=0.12.15->hvplot)\n",
      "Requirement already satisfied: pillow>=4.0 in /opt/conda/lib/python3.6/site-packages (from bokeh>=0.12.15->hvplot)\n",
      "Requirement already satisfied: six>=1.5.2 in /opt/conda/lib/python3.6/site-packages (from bokeh>=0.12.15->hvplot)\n",
      "Requirement already satisfied: packaging>=16.8 in /opt/conda/lib/python3.6/site-packages (from bokeh>=0.12.15->hvplot)\n",
      "Requirement already satisfied: MarkupSafe>=0.23 in /opt/conda/lib/python3.6/site-packages (from Jinja2>=2.7->bokeh>=0.12.15->hvplot)\n",
      "Requirement already satisfied: olefile in /opt/conda/lib/python3.6/site-packages (from pillow>=4.0->bokeh>=0.12.15->hvplot)\n",
      "Requirement already satisfied: pyparsing>=2.0.2 in /opt/conda/lib/python3.6/site-packages (from packaging>=16.8->bokeh>=0.12.15->hvplot)\n",
      "\u001b[33mYou are using pip version 9.0.1, however version 18.1 is available.\n",
      "You should consider upgrading via the 'pip install --upgrade pip' command.\u001b[0m\n"
     ]
    }
   ],
   "source": [
    "!pip install hvplot"
   ]
  },
  {
   "cell_type": "markdown",
   "metadata": {
    "_uuid": "ab7eea4a60d7d95aa71c7c09b033c941989fcd24"
   },
   "source": [
    "<img src=\"http://www.science4all.org/wp-content/uploads/2013/12/Santas-Vehicle-Routing-Problem3.png\" alt=\"drawing\" width=\"600\"/>\n",
    "\n",
    "This solution uses [Google OR-Tools](https://developers.google.com/optimization/) to optimize the routing for Santa. OR-Tools include a \"vehicle routing library\" for solving TSPs and a convenient Python interface. Lucky for us, it's all included in Kaggle kernels!\n",
    "\n",
    "The start point for the route comes from model-based clustering. You can see from the city plot how the density of points varies quite a bit across the grid. The right clustering approach may work better than starting with a grid or k-means clustering. Also, breaking the cities into clusters can scale to millions of points on a typical machine if the need arises. \n",
    "\n",
    "Here is the overall approach:\n",
    "\n",
    "* Divide cities into clusters\n",
    "* Get centers for each cluster\n",
    "* Find an optimal path across centers\n",
    "* Find start and stop points for each cluster\n",
    "* Find an optimal segment for each cluster and assemble"
   ]
  },
  {
   "cell_type": "code",
   "execution_count": 3,
   "metadata": {
    "_cell_guid": "b1076dfc-b9ad-4769-8c92-a6c4dae69d19",
    "_kg_hide-input": false,
    "_kg_hide-output": false,
    "_uuid": "8f2839f25d086af736a60e9eeb907d3b93b6e0e5"
   },
   "outputs": [
    {
     "ename": "AttributeError",
     "evalue": "module 'pandas' has no attribute 'rolling_count'",
     "output_type": "error",
     "traceback": [
      "\u001b[0;31m---------------------------------------------------------------------------\u001b[0m",
      "\u001b[0;31mAttributeError\u001b[0m                            Traceback (most recent call last)",
      "\u001b[0;32m<ipython-input-3-144ab449c76f>\u001b[0m in \u001b[0;36m<module>\u001b[0;34m()\u001b[0m\n\u001b[1;32m      3\u001b[0m \u001b[0;32mimport\u001b[0m \u001b[0mpandas\u001b[0m \u001b[0;32mas\u001b[0m \u001b[0mpd\u001b[0m\u001b[0;34m\u001b[0m\u001b[0m\n\u001b[1;32m      4\u001b[0m \u001b[0;32mfrom\u001b[0m \u001b[0msympy\u001b[0m \u001b[0;32mimport\u001b[0m \u001b[0msieve\u001b[0m\u001b[0;34m\u001b[0m\u001b[0m\n\u001b[0;32m----> 5\u001b[0;31m \u001b[0;32mimport\u001b[0m \u001b[0mhvplot\u001b[0m\u001b[0;34m.\u001b[0m\u001b[0mpandas\u001b[0m \u001b[0;31m#custom\u001b[0m\u001b[0;34m\u001b[0m\u001b[0m\n\u001b[0m\u001b[1;32m      6\u001b[0m \u001b[0;32mimport\u001b[0m \u001b[0mcolorcet\u001b[0m \u001b[0;32mas\u001b[0m \u001b[0mcc\u001b[0m\u001b[0;34m\u001b[0m\u001b[0m\n",
      "\u001b[0;32m/opt/conda/lib/python3.6/site-packages/hvplot/__init__.py\u001b[0m in \u001b[0;36m<module>\u001b[0;34m()\u001b[0m\n\u001b[1;32m      4\u001b[0m \u001b[0;32mimport\u001b[0m \u001b[0mnumpy\u001b[0m \u001b[0;32mas\u001b[0m \u001b[0m_np\u001b[0m\u001b[0;34m\u001b[0m\u001b[0m\n\u001b[1;32m      5\u001b[0m \u001b[0;32mimport\u001b[0m \u001b[0mpandas\u001b[0m \u001b[0;32mas\u001b[0m \u001b[0m_pd\u001b[0m\u001b[0;34m\u001b[0m\u001b[0m\n\u001b[0;32m----> 6\u001b[0;31m \u001b[0;32mimport\u001b[0m \u001b[0mholoviews\u001b[0m \u001b[0;32mas\u001b[0m \u001b[0m_hv\u001b[0m\u001b[0;34m\u001b[0m\u001b[0m\n\u001b[0m\u001b[1;32m      7\u001b[0m \u001b[0;32mfrom\u001b[0m \u001b[0mholoviews\u001b[0m\u001b[0;34m.\u001b[0m\u001b[0mipython\u001b[0m \u001b[0;32mimport\u001b[0m \u001b[0mdisplay\u001b[0m \u001b[0;31m# noqa\u001b[0m\u001b[0;34m\u001b[0m\u001b[0m\n\u001b[1;32m      8\u001b[0m \u001b[0;34m\u001b[0m\u001b[0m\n",
      "\u001b[0;32m/opt/conda/lib/python3.6/site-packages/holoviews/__init__.py\u001b[0m in \u001b[0;36m<module>\u001b[0;34m()\u001b[0m\n\u001b[1;32m     10\u001b[0m                                         reponame=\"holoviews\"))\n\u001b[1;32m     11\u001b[0m \u001b[0;34m\u001b[0m\u001b[0m\n\u001b[0;32m---> 12\u001b[0;31m \u001b[0;32mfrom\u001b[0m \u001b[0;34m.\u001b[0m\u001b[0mcore\u001b[0m \u001b[0;32mimport\u001b[0m \u001b[0marchive\u001b[0m\u001b[0;34m,\u001b[0m \u001b[0mconfig\u001b[0m                        \u001b[0;31m# noqa (API import)\u001b[0m\u001b[0;34m\u001b[0m\u001b[0m\n\u001b[0m\u001b[1;32m     13\u001b[0m \u001b[0;32mfrom\u001b[0m \u001b[0;34m.\u001b[0m\u001b[0mcore\u001b[0m\u001b[0;34m.\u001b[0m\u001b[0mdimension\u001b[0m \u001b[0;32mimport\u001b[0m \u001b[0mOrderedDict\u001b[0m\u001b[0;34m,\u001b[0m \u001b[0mDimension\u001b[0m       \u001b[0;31m# noqa (API import)\u001b[0m\u001b[0;34m\u001b[0m\u001b[0m\n\u001b[1;32m     14\u001b[0m \u001b[0;32mfrom\u001b[0m \u001b[0;34m.\u001b[0m\u001b[0mcore\u001b[0m\u001b[0;34m.\u001b[0m\u001b[0mboundingregion\u001b[0m \u001b[0;32mimport\u001b[0m \u001b[0mBoundingBox\u001b[0m             \u001b[0;31m# noqa (API import)\u001b[0m\u001b[0;34m\u001b[0m\u001b[0m\n",
      "\u001b[0;32m/opt/conda/lib/python3.6/site-packages/holoviews/core/__init__.py\u001b[0m in \u001b[0;36m<module>\u001b[0;34m()\u001b[0m\n\u001b[1;32m      1\u001b[0m \u001b[0;32mfrom\u001b[0m \u001b[0mdatetime\u001b[0m \u001b[0;32mimport\u001b[0m \u001b[0mdate\u001b[0m\u001b[0;34m,\u001b[0m \u001b[0mdatetime\u001b[0m\u001b[0;34m\u001b[0m\u001b[0m\n\u001b[1;32m      2\u001b[0m \u001b[0;34m\u001b[0m\u001b[0m\n\u001b[0;32m----> 3\u001b[0;31m \u001b[0;32mfrom\u001b[0m \u001b[0;34m.\u001b[0m\u001b[0mboundingregion\u001b[0m \u001b[0;32mimport\u001b[0m \u001b[0;34m*\u001b[0m  \u001b[0;31m# noqa (API import)\u001b[0m\u001b[0;34m\u001b[0m\u001b[0m\n\u001b[0m\u001b[1;32m      4\u001b[0m \u001b[0;32mfrom\u001b[0m \u001b[0;34m.\u001b[0m\u001b[0mdata\u001b[0m \u001b[0;32mimport\u001b[0m \u001b[0;34m*\u001b[0m            \u001b[0;31m# noqa (API import)\u001b[0m\u001b[0;34m\u001b[0m\u001b[0m\n\u001b[1;32m      5\u001b[0m \u001b[0;32mfrom\u001b[0m \u001b[0;34m.\u001b[0m\u001b[0mdimension\u001b[0m \u001b[0;32mimport\u001b[0m \u001b[0;34m*\u001b[0m       \u001b[0;31m# noqa (API import)\u001b[0m\u001b[0;34m\u001b[0m\u001b[0m\n",
      "\u001b[0;32m/opt/conda/lib/python3.6/site-packages/holoviews/core/boundingregion.py\u001b[0m in \u001b[0;36m<module>\u001b[0;34m()\u001b[0m\n\u001b[1;32m     10\u001b[0m \u001b[0;32mimport\u001b[0m \u001b[0mparam\u001b[0m\u001b[0;34m\u001b[0m\u001b[0m\n\u001b[1;32m     11\u001b[0m \u001b[0;32mfrom\u001b[0m \u001b[0mparam\u001b[0m\u001b[0;34m.\u001b[0m\u001b[0mparameterized\u001b[0m \u001b[0;32mimport\u001b[0m \u001b[0mget_occupied_slots\u001b[0m\u001b[0;34m\u001b[0m\u001b[0m\n\u001b[0;32m---> 12\u001b[0;31m \u001b[0;32mfrom\u001b[0m \u001b[0;34m.\u001b[0m\u001b[0mutil\u001b[0m \u001b[0;32mimport\u001b[0m \u001b[0mdatetime_types\u001b[0m\u001b[0;34m\u001b[0m\u001b[0m\n\u001b[0m\u001b[1;32m     13\u001b[0m \u001b[0;34m\u001b[0m\u001b[0m\n\u001b[1;32m     14\u001b[0m \u001b[0;34m\u001b[0m\u001b[0m\n",
      "\u001b[0;32m/opt/conda/lib/python3.6/site-packages/holoviews/core/util.py\u001b[0m in \u001b[0;36m<module>\u001b[0;34m()\u001b[0m\n\u001b[1;32m     65\u001b[0m \u001b[0;34m\u001b[0m\u001b[0m\n\u001b[1;32m     66\u001b[0m \u001b[0;32mtry\u001b[0m\u001b[0;34m:\u001b[0m\u001b[0;34m\u001b[0m\u001b[0m\n\u001b[0;32m---> 67\u001b[0;31m     \u001b[0;32mimport\u001b[0m \u001b[0mdask\u001b[0m\u001b[0;34m.\u001b[0m\u001b[0mdataframe\u001b[0m \u001b[0;32mas\u001b[0m \u001b[0mdd\u001b[0m\u001b[0;34m\u001b[0m\u001b[0m\n\u001b[0m\u001b[1;32m     68\u001b[0m \u001b[0;32mexcept\u001b[0m \u001b[0mImportError\u001b[0m\u001b[0;34m:\u001b[0m\u001b[0;34m\u001b[0m\u001b[0m\n\u001b[1;32m     69\u001b[0m     \u001b[0mdd\u001b[0m \u001b[0;34m=\u001b[0m \u001b[0;32mNone\u001b[0m\u001b[0;34m\u001b[0m\u001b[0m\n",
      "\u001b[0;32m/opt/conda/lib/python3.6/site-packages/dask/dataframe/__init__.py\u001b[0m in \u001b[0;36m<module>\u001b[0;34m()\u001b[0m\n\u001b[1;32m     10\u001b[0m \u001b[0;32mfrom\u001b[0m \u001b[0;34m.\u001b[0m\u001b[0moptimize\u001b[0m \u001b[0;32mimport\u001b[0m \u001b[0moptimize\u001b[0m\u001b[0;34m\u001b[0m\u001b[0m\n\u001b[1;32m     11\u001b[0m \u001b[0;32mfrom\u001b[0m \u001b[0;34m.\u001b[0m\u001b[0mmulti\u001b[0m \u001b[0;32mimport\u001b[0m \u001b[0mmerge\u001b[0m\u001b[0;34m,\u001b[0m \u001b[0mconcat\u001b[0m\u001b[0;34m\u001b[0m\u001b[0m\n\u001b[0;32m---> 12\u001b[0;31m from .rolling import (rolling_count, rolling_sum, rolling_mean, rolling_median,\n\u001b[0m\u001b[1;32m     13\u001b[0m                       \u001b[0mrolling_min\u001b[0m\u001b[0;34m,\u001b[0m \u001b[0mrolling_max\u001b[0m\u001b[0;34m,\u001b[0m \u001b[0mrolling_std\u001b[0m\u001b[0;34m,\u001b[0m \u001b[0mrolling_var\u001b[0m\u001b[0;34m,\u001b[0m\u001b[0;34m\u001b[0m\u001b[0m\n\u001b[1;32m     14\u001b[0m                       \u001b[0mrolling_skew\u001b[0m\u001b[0;34m,\u001b[0m \u001b[0mrolling_kurt\u001b[0m\u001b[0;34m,\u001b[0m \u001b[0mrolling_quantile\u001b[0m\u001b[0;34m,\u001b[0m \u001b[0mrolling_apply\u001b[0m\u001b[0;34m,\u001b[0m\u001b[0;34m\u001b[0m\u001b[0m\n",
      "\u001b[0;32m/opt/conda/lib/python3.6/site-packages/dask/dataframe/rolling.py\u001b[0m in \u001b[0;36m<module>\u001b[0;34m()\u001b[0m\n\u001b[1;32m    198\u001b[0m \u001b[0;34m\u001b[0m\u001b[0m\n\u001b[1;32m    199\u001b[0m \u001b[0;34m\u001b[0m\u001b[0m\n\u001b[0;32m--> 200\u001b[0;31m \u001b[0mrolling_count\u001b[0m \u001b[0;34m=\u001b[0m \u001b[0mwrap_rolling\u001b[0m\u001b[0;34m(\u001b[0m\u001b[0mpd\u001b[0m\u001b[0;34m.\u001b[0m\u001b[0mrolling_count\u001b[0m\u001b[0;34m,\u001b[0m \u001b[0;34m'count'\u001b[0m\u001b[0;34m)\u001b[0m\u001b[0;34m\u001b[0m\u001b[0m\n\u001b[0m\u001b[1;32m    201\u001b[0m \u001b[0mrolling_sum\u001b[0m \u001b[0;34m=\u001b[0m \u001b[0mwrap_rolling\u001b[0m\u001b[0;34m(\u001b[0m\u001b[0mpd\u001b[0m\u001b[0;34m.\u001b[0m\u001b[0mrolling_sum\u001b[0m\u001b[0;34m,\u001b[0m \u001b[0;34m'sum'\u001b[0m\u001b[0;34m)\u001b[0m\u001b[0;34m\u001b[0m\u001b[0m\n\u001b[1;32m    202\u001b[0m \u001b[0mrolling_mean\u001b[0m \u001b[0;34m=\u001b[0m \u001b[0mwrap_rolling\u001b[0m\u001b[0;34m(\u001b[0m\u001b[0mpd\u001b[0m\u001b[0;34m.\u001b[0m\u001b[0mrolling_mean\u001b[0m\u001b[0;34m,\u001b[0m \u001b[0;34m'mean'\u001b[0m\u001b[0;34m)\u001b[0m\u001b[0;34m\u001b[0m\u001b[0m\n",
      "\u001b[0;31mAttributeError\u001b[0m: module 'pandas' has no attribute 'rolling_count'"
     ]
    }
   ],
   "source": [
    "from tqdm import tqdm\n",
    "import numpy as np\n",
    "import pandas as pd\n",
    "from sympy import sieve\n",
    "import hvplot.pandas #custom\n",
    "import colorcet as cc"
   ]
  },
  {
   "cell_type": "markdown",
   "metadata": {
    "_uuid": "3212f31674dc83f707d0c9a5ef27197c3cae704e"
   },
   "source": [
    "## Clustering \n",
    "\n",
    "#### First Look\n",
    "Hexagonal binning is often a good way to quickly see the density of overlapping points. Below is a comparison of all points with a bin plot of prime cities. Prime and non-prime cities appear to be be similarly distributed with a few dark, dense areas."
   ]
  },
  {
   "cell_type": "code",
   "execution_count": 14,
   "metadata": {
    "_cell_guid": "79c7e3d0-c299-4dcb-8224-4455121ee9b0",
    "_uuid": "d629ff2d2480ee46fbb7e2d37f6b5fab8052498a",
    "scrolled": false
   },
   "outputs": [
    {
     "data": {
      "text/html": [
       "<div>\n",
       "<table border=\"1\" class=\"dataframe\">\n",
       "  <thead>\n",
       "    <tr style=\"text-align: right;\">\n",
       "      <th></th>\n",
       "      <th>X</th>\n",
       "      <th>Y</th>\n",
       "      <th>isprime</th>\n",
       "    </tr>\n",
       "    <tr>\n",
       "      <th>CityId</th>\n",
       "      <th></th>\n",
       "      <th></th>\n",
       "      <th></th>\n",
       "    </tr>\n",
       "  </thead>\n",
       "  <tbody>\n",
       "    <tr>\n",
       "      <th>0</th>\n",
       "      <td>316.836739</td>\n",
       "      <td>2202.340707</td>\n",
       "      <td>False</td>\n",
       "    </tr>\n",
       "    <tr>\n",
       "      <th>1</th>\n",
       "      <td>4377.405972</td>\n",
       "      <td>336.602082</td>\n",
       "      <td>False</td>\n",
       "    </tr>\n",
       "    <tr>\n",
       "      <th>2</th>\n",
       "      <td>3454.158198</td>\n",
       "      <td>2820.053011</td>\n",
       "      <td>True</td>\n",
       "    </tr>\n",
       "    <tr>\n",
       "      <th>3</th>\n",
       "      <td>4688.099298</td>\n",
       "      <td>2935.898056</td>\n",
       "      <td>True</td>\n",
       "    </tr>\n",
       "    <tr>\n",
       "      <th>4</th>\n",
       "      <td>1010.696952</td>\n",
       "      <td>3236.750989</td>\n",
       "      <td>False</td>\n",
       "    </tr>\n",
       "  </tbody>\n",
       "</table>\n",
       "</div>"
      ],
      "text/plain": [
       "                  X            Y isprime\n",
       "CityId                                  \n",
       "0        316.836739  2202.340707   False\n",
       "1       4377.405972   336.602082   False\n",
       "2       3454.158198  2820.053011    True\n",
       "3       4688.099298  2935.898056    True\n",
       "4       1010.696952  3236.750989   False"
      ]
     },
     "metadata": {},
     "output_type": "display_data"
    },
    {
     "ename": "ImportError",
     "evalue": "Datashading is not available",
     "output_type": "error",
     "traceback": [
      "\u001b[0;31m---------------------------------------------------------------------------\u001b[0m",
      "\u001b[0;31mImportError\u001b[0m                               Traceback (most recent call last)",
      "\u001b[0;32m/opt/conda/lib/python3.6/site-packages/hvplot/converter.py\u001b[0m in \u001b[0;36m__call__\u001b[0;34m(self, kind, x, y)\u001b[0m\n\u001b[1;32m    518\u001b[0m         \u001b[0;32mtry\u001b[0m\u001b[0;34m:\u001b[0m\u001b[0;34m\u001b[0m\u001b[0m\n\u001b[0;32m--> 519\u001b[0;31m             \u001b[0;32mfrom\u001b[0m \u001b[0mholoviews\u001b[0m\u001b[0;34m.\u001b[0m\u001b[0moperation\u001b[0m\u001b[0;34m.\u001b[0m\u001b[0mdatashader\u001b[0m \u001b[0;32mimport\u001b[0m \u001b[0mdatashade\u001b[0m\u001b[0;34m,\u001b[0m \u001b[0mrasterize\u001b[0m\u001b[0;34m,\u001b[0m \u001b[0mdynspread\u001b[0m\u001b[0;34m\u001b[0m\u001b[0m\n\u001b[0m\u001b[1;32m    520\u001b[0m             \u001b[0;32mfrom\u001b[0m \u001b[0mdatashader\u001b[0m \u001b[0;32mimport\u001b[0m \u001b[0mcount_cat\u001b[0m\u001b[0;34m\u001b[0m\u001b[0m\n",
      "\u001b[0;32m/opt/conda/lib/python3.6/site-packages/holoviews/operation/datashader.py\u001b[0m in \u001b[0;36m<module>\u001b[0;34m()\u001b[0m\n\u001b[1;32m     26\u001b[0m                     CompositeOverlay, Dataset, Overlay)\n\u001b[0;32m---> 27\u001b[0;31m \u001b[0;32mfrom\u001b[0m \u001b[0;34m.\u001b[0m\u001b[0;34m.\u001b[0m\u001b[0mcore\u001b[0m\u001b[0;34m.\u001b[0m\u001b[0mdata\u001b[0m \u001b[0;32mimport\u001b[0m \u001b[0mPandasInterface\u001b[0m\u001b[0;34m,\u001b[0m \u001b[0mXArrayInterface\u001b[0m\u001b[0;34m\u001b[0m\u001b[0m\n\u001b[0m\u001b[1;32m     28\u001b[0m \u001b[0;32mfrom\u001b[0m \u001b[0;34m.\u001b[0m\u001b[0;34m.\u001b[0m\u001b[0mcore\u001b[0m\u001b[0;34m.\u001b[0m\u001b[0msheetcoords\u001b[0m \u001b[0;32mimport\u001b[0m \u001b[0mBoundingBox\u001b[0m\u001b[0;34m\u001b[0m\u001b[0m\n",
      "\u001b[0;31mImportError\u001b[0m: cannot import name 'XArrayInterface'",
      "\nDuring handling of the above exception, another exception occurred:\n",
      "\u001b[0;31mImportError\u001b[0m                               Traceback (most recent call last)",
      "\u001b[0;32m<ipython-input-14-54db0c95f5a0>\u001b[0m in \u001b[0;36m<module>\u001b[0;34m()\u001b[0m\n\u001b[1;32m      6\u001b[0m \u001b[0;31m# show all points and density of primes\u001b[0m\u001b[0;34m\u001b[0m\u001b[0;34m\u001b[0m\u001b[0m\n\u001b[1;32m      7\u001b[0m allpoints = cities.hvplot.scatter('X', 'Y',  width=380, height=350, datashade=True, \n\u001b[0;32m----> 8\u001b[0;31m                 title='All Cities')\n\u001b[0m\u001b[1;32m      9\u001b[0m \u001b[0mcolors\u001b[0m \u001b[0;34m=\u001b[0m \u001b[0mlist\u001b[0m\u001b[0;34m(\u001b[0m\u001b[0mreversed\u001b[0m\u001b[0;34m(\u001b[0m\u001b[0mcc\u001b[0m\u001b[0;34m.\u001b[0m\u001b[0mkbc\u001b[0m\u001b[0;34m)\u001b[0m\u001b[0;34m)\u001b[0m\u001b[0;34m\u001b[0m\u001b[0m\n\u001b[1;32m     10\u001b[0m primedensity = cities[cities.isprime].hvplot.hexbin(x='X', y='Y', width=420, height=350, \n",
      "\u001b[0;32m/opt/conda/lib/python3.6/site-packages/hvplot/__init__.py\u001b[0m in \u001b[0;36mscatter\u001b[0;34m(self, x, y, **kwds)\u001b[0m\n\u001b[1;32m    165\u001b[0m             \u001b[0mThe\u001b[0m \u001b[0mHoloViews\u001b[0m \u001b[0mrepresentation\u001b[0m \u001b[0mof\u001b[0m \u001b[0mthe\u001b[0m \u001b[0mplot\u001b[0m\u001b[0;34m.\u001b[0m\u001b[0;34m\u001b[0m\u001b[0m\n\u001b[1;32m    166\u001b[0m         \"\"\"\n\u001b[0;32m--> 167\u001b[0;31m         \u001b[0;32mreturn\u001b[0m \u001b[0mself\u001b[0m\u001b[0;34m(\u001b[0m\u001b[0mx\u001b[0m\u001b[0;34m,\u001b[0m \u001b[0my\u001b[0m\u001b[0;34m,\u001b[0m \u001b[0mkind\u001b[0m\u001b[0;34m=\u001b[0m\u001b[0;34m'scatter'\u001b[0m\u001b[0;34m,\u001b[0m \u001b[0;34m**\u001b[0m\u001b[0mkwds\u001b[0m\u001b[0;34m)\u001b[0m\u001b[0;34m\u001b[0m\u001b[0m\n\u001b[0m\u001b[1;32m    168\u001b[0m \u001b[0;34m\u001b[0m\u001b[0m\n\u001b[1;32m    169\u001b[0m     \u001b[0;32mdef\u001b[0m \u001b[0marea\u001b[0m\u001b[0;34m(\u001b[0m\u001b[0mself\u001b[0m\u001b[0;34m,\u001b[0m \u001b[0mx\u001b[0m\u001b[0;34m=\u001b[0m\u001b[0;32mNone\u001b[0m\u001b[0;34m,\u001b[0m \u001b[0my\u001b[0m\u001b[0;34m=\u001b[0m\u001b[0;32mNone\u001b[0m\u001b[0;34m,\u001b[0m \u001b[0my2\u001b[0m\u001b[0;34m=\u001b[0m\u001b[0;32mNone\u001b[0m\u001b[0;34m,\u001b[0m \u001b[0mstacked\u001b[0m\u001b[0;34m=\u001b[0m\u001b[0;32mTrue\u001b[0m\u001b[0;34m,\u001b[0m \u001b[0;34m**\u001b[0m\u001b[0mkwds\u001b[0m\u001b[0;34m)\u001b[0m\u001b[0;34m:\u001b[0m\u001b[0;34m\u001b[0m\u001b[0m\n",
      "\u001b[0;32m/opt/conda/lib/python3.6/site-packages/hvplot/__init__.py\u001b[0m in \u001b[0;36m__call__\u001b[0;34m(self, x, y, kind, **kwds)\u001b[0m\n\u001b[1;32m     88\u001b[0m             \u001b[0mself\u001b[0m\u001b[0;34m.\u001b[0m\u001b[0m_data\u001b[0m\u001b[0;34m,\u001b[0m \u001b[0mx\u001b[0m\u001b[0;34m,\u001b[0m \u001b[0my\u001b[0m\u001b[0;34m,\u001b[0m \u001b[0mkind\u001b[0m\u001b[0;34m=\u001b[0m\u001b[0mkind\u001b[0m\u001b[0;34m,\u001b[0m \u001b[0;34m**\u001b[0m\u001b[0mparams\u001b[0m\u001b[0;34m\u001b[0m\u001b[0m\n\u001b[1;32m     89\u001b[0m         )\n\u001b[0;32m---> 90\u001b[0;31m         \u001b[0;32mreturn\u001b[0m \u001b[0mconverter\u001b[0m\u001b[0;34m(\u001b[0m\u001b[0mkind\u001b[0m\u001b[0;34m,\u001b[0m \u001b[0mx\u001b[0m\u001b[0;34m,\u001b[0m \u001b[0my\u001b[0m\u001b[0;34m)\u001b[0m\u001b[0;34m\u001b[0m\u001b[0m\n\u001b[0m\u001b[1;32m     91\u001b[0m \u001b[0;34m\u001b[0m\u001b[0m\n\u001b[1;32m     92\u001b[0m     \u001b[0;32mdef\u001b[0m \u001b[0m__dir__\u001b[0m\u001b[0;34m(\u001b[0m\u001b[0mself\u001b[0m\u001b[0;34m)\u001b[0m\u001b[0;34m:\u001b[0m\u001b[0;34m\u001b[0m\u001b[0m\n",
      "\u001b[0;32m/opt/conda/lib/python3.6/site-packages/hvplot/converter.py\u001b[0m in \u001b[0;36m__call__\u001b[0;34m(self, kind, x, y)\u001b[0m\n\u001b[1;32m    520\u001b[0m             \u001b[0;32mfrom\u001b[0m \u001b[0mdatashader\u001b[0m \u001b[0;32mimport\u001b[0m \u001b[0mcount_cat\u001b[0m\u001b[0;34m\u001b[0m\u001b[0m\n\u001b[1;32m    521\u001b[0m         \u001b[0;32mexcept\u001b[0m\u001b[0;34m:\u001b[0m\u001b[0;34m\u001b[0m\u001b[0m\n\u001b[0;32m--> 522\u001b[0;31m             \u001b[0;32mraise\u001b[0m \u001b[0mImportError\u001b[0m\u001b[0;34m(\u001b[0m\u001b[0;34m'Datashading is not available'\u001b[0m\u001b[0;34m)\u001b[0m\u001b[0;34m\u001b[0m\u001b[0m\n\u001b[0m\u001b[1;32m    523\u001b[0m \u001b[0;34m\u001b[0m\u001b[0m\n\u001b[1;32m    524\u001b[0m         opts = dict(width=self._plot_opts['width'], height=self._plot_opts['height'],\n",
      "\u001b[0;31mImportError\u001b[0m: Datashading is not available"
     ]
    }
   ],
   "source": [
    "cities = pd.read_csv(\"../data/raw/cities.csv\", index_col=['CityId'])\n",
    "pnums = list(sieve.primerange(0, cities.shape[0]))\n",
    "cities['isprime'] = cities.index.isin(pnums)\n",
    "display(cities.head())\n",
    "\n",
    "# show all points and density of primes\n",
    "allpoints = cities.hvplot.scatter('X', 'Y',  width=380, height=350, datashade=True, \n",
    "                title='All Cities')\n",
    "colors = list(reversed(cc.kbc))\n",
    "primedensity = cities[cities.isprime].hvplot.hexbin(x='X', y='Y', width=420, height=350, \n",
    "                cmap=colors, title='Density of Prime Cities').options(size_index='Count', \n",
    "                min_scale=0.8, max_scale=0.95)\n",
    "allpoints + primedensity"
   ]
  },
  {
   "cell_type": "markdown",
   "metadata": {
    "_uuid": "96d55e829173412b505995dd07698d59c7336467"
   },
   "source": [
    "#### Model-based Clustering\n",
    "\n",
    "I first tried density-based clustering, but it left too many points that didn't belong to any cluster. In some cases it's ideal to separate out the sparse points, but for TSPs it's not so good. Model-based clustering seems to be a better choice. The number of clusters is set manually. Here I'll choose a relatively high number to ease the burden on the router."
   ]
  },
  {
   "cell_type": "code",
   "execution_count": 4,
   "metadata": {
    "_uuid": "72248ad42ae92f22200fe3d456e34e05de2b2acd"
   },
   "outputs": [
    {
     "ename": "AttributeError",
     "evalue": "'GaussianMixture' object has no attribute 'fit_predict'",
     "output_type": "error",
     "traceback": [
      "\u001b[0;31m---------------------------------------------------------------------------\u001b[0m",
      "\u001b[0;31mAttributeError\u001b[0m                            Traceback (most recent call last)",
      "\u001b[0;32m<timed exec>\u001b[0m in \u001b[0;36m<module>\u001b[0;34m()\u001b[0m\n",
      "\u001b[0;31mAttributeError\u001b[0m: 'GaussianMixture' object has no attribute 'fit_predict'"
     ]
    }
   ],
   "source": [
    "%%time\n",
    "from sklearn.mixture import GaussianMixture\n",
    "\n",
    "mclusterer = GaussianMixture(n_components=250, tol=0.01, random_state=66, verbose=1)\n",
    "cities['mclust'] = mclusterer.fit_predict(cities[['X', 'Y']].values)\n",
    "nmax = cities.mclust.max()\n",
    "print(\"{} clusters\".format(nmax+1))"
   ]
  },
  {
   "cell_type": "markdown",
   "metadata": {
    "_uuid": "b95cb523006a09c401f4a836488aea4fd89506f6"
   },
   "source": [
    "Clusters can be of different sizes with model-based clustering. Here's the distribution of cities per cluster and the scatterplot. "
   ]
  },
  {
   "cell_type": "code",
   "execution_count": 5,
   "metadata": {
    "_uuid": "30b7c2a73d84aef83ca2eb7036d9b551e38c6f3e",
    "scrolled": false
   },
   "outputs": [
    {
     "ename": "NameError",
     "evalue": "name 'cities' is not defined",
     "output_type": "error",
     "traceback": [
      "\u001b[0;31m---------------------------------------------------------------------------\u001b[0m",
      "\u001b[0;31mNameError\u001b[0m                                 Traceback (most recent call last)",
      "\u001b[0;32m<ipython-input-5-0610b96e019e>\u001b[0m in \u001b[0;36m<module>\u001b[0;34m()\u001b[0m\n\u001b[0;32m----> 1\u001b[0;31m \u001b[0mhisto\u001b[0m \u001b[0;34m=\u001b[0m \u001b[0mcities\u001b[0m\u001b[0;34m.\u001b[0m\u001b[0mhvplot\u001b[0m\u001b[0;34m.\u001b[0m\u001b[0mhist\u001b[0m\u001b[0;34m(\u001b[0m\u001b[0;34m'mclust'\u001b[0m\u001b[0;34m,\u001b[0m \u001b[0mylim\u001b[0m\u001b[0;34m=\u001b[0m\u001b[0;34m(\u001b[0m\u001b[0;36m0\u001b[0m\u001b[0;34m,\u001b[0m\u001b[0;36m14000\u001b[0m\u001b[0;34m)\u001b[0m\u001b[0;34m,\u001b[0m \u001b[0mcolor\u001b[0m\u001b[0;34m=\u001b[0m\u001b[0;34m'tan'\u001b[0m\u001b[0;34m)\u001b[0m\u001b[0;34m\u001b[0m\u001b[0m\n\u001b[0m\u001b[1;32m      2\u001b[0m \u001b[0;34m\u001b[0m\u001b[0m\n\u001b[1;32m      3\u001b[0m \u001b[0mcustcolor\u001b[0m \u001b[0;34m=\u001b[0m \u001b[0mcc\u001b[0m\u001b[0;34m.\u001b[0m\u001b[0mrainbow\u001b[0m \u001b[0;34m+\u001b[0m \u001b[0mcc\u001b[0m\u001b[0;34m.\u001b[0m\u001b[0mrainbow\u001b[0m\u001b[0;34m\u001b[0m\u001b[0m\n\u001b[1;32m      4\u001b[0m gausses = cities.hvplot.scatter('X', 'Y',  by='mclust', size=5, width=500, height=450, \n\u001b[1;32m      5\u001b[0m                 datashade=True, dynspread=True, cmap=custcolor)\n",
      "\u001b[0;31mNameError\u001b[0m: name 'cities' is not defined"
     ]
    }
   ],
   "source": [
    "histo = cities.hvplot.hist('mclust', ylim=(0,14000), color='tan')\n",
    "\n",
    "custcolor = cc.rainbow + cc.rainbow\n",
    "gausses = cities.hvplot.scatter('X', 'Y',  by='mclust', size=5, width=500, height=450, \n",
    "                datashade=True, dynspread=True, cmap=custcolor)\n",
    "display(histo, gausses)"
   ]
  },
  {
   "cell_type": "markdown",
   "metadata": {
    "_uuid": "a597d7124c78e7df211f8bd01cf167277bd70ddd"
   },
   "source": [
    "## Cluster Centers\n",
    "\n",
    "Here are the geometric centers of all the clusters. The big red dot is the North Pole."
   ]
  },
  {
   "cell_type": "code",
   "execution_count": 6,
   "metadata": {
    "_uuid": "af5f5a26113c526ebfbac55fb52df5653585532e",
    "scrolled": true
   },
   "outputs": [
    {
     "ename": "NameError",
     "evalue": "name 'cities' is not defined",
     "output_type": "error",
     "traceback": [
      "\u001b[0;31m---------------------------------------------------------------------------\u001b[0m",
      "\u001b[0;31mNameError\u001b[0m                                 Traceback (most recent call last)",
      "\u001b[0;32m<ipython-input-6-6ae9aa6913fa>\u001b[0m in \u001b[0;36m<module>\u001b[0;34m()\u001b[0m\n\u001b[0;32m----> 1\u001b[0;31m \u001b[0mcenters\u001b[0m \u001b[0;34m=\u001b[0m \u001b[0mcities\u001b[0m\u001b[0;34m.\u001b[0m\u001b[0mgroupby\u001b[0m\u001b[0;34m(\u001b[0m\u001b[0;34m'mclust'\u001b[0m\u001b[0;34m)\u001b[0m\u001b[0;34m[\u001b[0m\u001b[0;34m'X'\u001b[0m\u001b[0;34m,\u001b[0m \u001b[0;34m'Y'\u001b[0m\u001b[0;34m]\u001b[0m\u001b[0;34m.\u001b[0m\u001b[0magg\u001b[0m\u001b[0;34m(\u001b[0m\u001b[0;34m'mean'\u001b[0m\u001b[0;34m)\u001b[0m\u001b[0;34m.\u001b[0m\u001b[0mreset_index\u001b[0m\u001b[0;34m(\u001b[0m\u001b[0;34m)\u001b[0m\u001b[0;34m\u001b[0m\u001b[0m\n\u001b[0m\u001b[1;32m      2\u001b[0m \u001b[0;32mdef\u001b[0m \u001b[0mplot_it\u001b[0m\u001b[0;34m(\u001b[0m\u001b[0mdf\u001b[0m\u001b[0;34m,\u001b[0m \u001b[0mdotsize\u001b[0m\u001b[0;34m,\u001b[0m \u001b[0mdotcolor\u001b[0m\u001b[0;34m,\u001b[0m \u001b[0mdotalpha\u001b[0m\u001b[0;34m)\u001b[0m\u001b[0;34m:\u001b[0m\u001b[0;34m\u001b[0m\u001b[0m\n\u001b[1;32m      3\u001b[0m     p = df.hvplot.scatter('X', 'Y', size=dotsize, xlim=(0,5100), ylim=(0,3400), width=500,\n\u001b[1;32m      4\u001b[0m             height=450, hover_cols=['mclust'], color=dotcolor, alpha=dotalpha)\n\u001b[1;32m      5\u001b[0m     \u001b[0;32mreturn\u001b[0m \u001b[0mp\u001b[0m\u001b[0;34m\u001b[0m\u001b[0m\n",
      "\u001b[0;31mNameError\u001b[0m: name 'cities' is not defined"
     ]
    }
   ],
   "source": [
    "centers = cities.groupby('mclust')['X', 'Y'].agg('mean').reset_index()\n",
    "def plot_it(df, dotsize, dotcolor, dotalpha):\n",
    "    p = df.hvplot.scatter('X', 'Y', size=dotsize, xlim=(0,5100), ylim=(0,3400), width=500,\n",
    "            height=450, hover_cols=['mclust'], color=dotcolor, alpha=dotalpha)\n",
    "    return p\n",
    "\n",
    "cents = plot_it(centers, 30, 'darkblue', 0.5)\n",
    "npole = plot_it(cities.loc[[0]], 100, 'red', 1)\n",
    "cents*npole"
   ]
  },
  {
   "cell_type": "markdown",
   "metadata": {
    "_uuid": "1ea7a4d20f215a20e5d7a4a64d092731c457a0ae"
   },
   "source": [
    "## Optimal Path across Centers\n",
    "\n",
    "OR-Tools can find an optimal path across the clusters. Here is a modified version of the code documented on [Google's TSP page](https://developers.google.com/optimization/routing/tsp)."
   ]
  },
  {
   "cell_type": "code",
   "execution_count": null,
   "metadata": {
    "_uuid": "f573356888e1c2103a0e4fa7c425ba986ee19d74"
   },
   "outputs": [],
   "source": [
    "#%% imports\n",
    "from scipy.spatial.distance import pdist, squareform\n",
    "from ortools.constraint_solver import pywrapcp\n",
    "from ortools.constraint_solver import routing_enums_pb2\n",
    "\n",
    "#%% functions\n",
    "def create_mat(df):\n",
    "    print(\"building matrix\")\n",
    "    mat = pdist(locations)\n",
    "    return squareform(mat)\n",
    "\n",
    "def create_distance_callback(dist_matrix):\n",
    "    def distance_callback(from_node, to_node):\n",
    "      return int(dist_matrix[from_node][to_node])\n",
    "    return distance_callback\n",
    "\n",
    "status_dict = {0: 'ROUTING_NOT_SOLVED', \n",
    "               1: 'ROUTING_SUCCESS', \n",
    "               2: 'ROUTING_FAIL',\n",
    "               3: 'ROUTING_FAIL_TIMEOUT',\n",
    "               4: 'ROUTING_INVALID'}\n",
    "\n",
    "def optimize(df, startnode=None, stopnode=None, fixed=False):     \n",
    "    num_nodes = df.shape[0]\n",
    "    mat = create_mat(df)\n",
    "    dist_callback = create_distance_callback(mat)\n",
    "    search_parameters = pywrapcp.RoutingModel.DefaultSearchParameters()\n",
    "#     search_parameters.time_limit_ms = int(1000*60*numminutes)\n",
    "    search_parameters.solution_limit = num_iters \n",
    "    search_parameters.first_solution_strategy = (\n",
    "                                    routing_enums_pb2.FirstSolutionStrategy.LOCAL_CHEAPEST_INSERTION)\n",
    "    search_parameters.local_search_metaheuristic = (\n",
    "                            routing_enums_pb2.LocalSearchMetaheuristic.GUIDED_LOCAL_SEARCH)\n",
    "\n",
    "    if fixed:\n",
    "        routemodel = pywrapcp.RoutingModel(num_nodes, 1, [startnode], [stopnode])\n",
    "    else:\n",
    "        routemodel = pywrapcp.RoutingModel(num_nodes, 1, startnode)\n",
    "    routemodel.SetArcCostEvaluatorOfAllVehicles(dist_callback)\n",
    "    \n",
    "    print(\"optimizing {} cities\".format(num_nodes)) \n",
    "    assignment = routemodel.SolveWithParameters(search_parameters)\n",
    "\n",
    "    print(\"status: \", status_dict.get(routemodel.status()))\n",
    "    print(\"travel distance: \",  str(assignment.ObjectiveValue()), \"\\n\")\n",
    "    return routemodel, assignment\n",
    "    \n",
    "def get_route(df, startnode, stopnode, fixed): \n",
    "    routemodel, assignment = optimize(df, int(startnode), int(stopnode), fixed)\n",
    "    route_number = 0\n",
    "    node = routemodel.Start(route_number)\n",
    "    route = []\n",
    "    while not routemodel.IsEnd(node):\n",
    "        route.append(node) \n",
    "        node = assignment.Value(routemodel.NextVar(node))\n",
    "    return route\n"
   ]
  },
  {
   "cell_type": "code",
   "execution_count": null,
   "metadata": {
    "_uuid": "32d07025a864b9beb54c811455cecdf6569b3e94"
   },
   "outputs": [],
   "source": [
    "%%time\n",
    "#%% parameters\n",
    "num_iters=100\n",
    "\n",
    "# main\n",
    "nnode = int(cities.loc[0, 'mclust'])\n",
    "locations = centers[['X', 'Y']].values\n",
    "segment = get_route(locations, nnode, 0, fixed=False)"
   ]
  },
  {
   "cell_type": "code",
   "execution_count": null,
   "metadata": {
    "_uuid": "4bdc1367de04dc26ef3bc94a4aaf85e16e4806d4",
    "scrolled": false
   },
   "outputs": [],
   "source": [
    "opoints = centers.loc[segment]\n",
    "centersline = opoints.hvplot.line('X', 'Y', xlim=(0,5100), ylim=(0,3400), color='green', width=500, \n",
    "                            height=450, hover=False) \n",
    "gausses*cents*npole*centersline"
   ]
  },
  {
   "cell_type": "markdown",
   "metadata": {
    "_uuid": "e74bbbfb07af1530e0dd40c899ce2693935697bf"
   },
   "source": [
    "The path looks reasonable... \n",
    "\n",
    "## Start and Stop Points\n",
    "The next step is to find good start/stop points for each cluster along the path.\n",
    "* Set the start point for cluster[n] as the point closest to the center of cluster[n-1].\n",
    "* Set the stop point for cluster[n] as the point closest to the start point of cluster[n+1].\n",
    "\n",
    "This idea comes from [Proposed Algorithms to solve Big Data traveling salesman problem](https://www.researchgate.net/publication/326325068_Proposed_Algorithms_to_solve_Big_Data_traveling_salesman_problem). Thank you Research Gate!"
   ]
  },
  {
   "cell_type": "code",
   "execution_count": null,
   "metadata": {
    "_uuid": "02f8a665d7fe723d010a17de4cbefff4b963c7e4"
   },
   "outputs": [],
   "source": [
    "opoints.reset_index(drop=True, inplace=True) #recall ordered points\n",
    "cities['clustorder'] = cities.groupby('mclust').cumcount()"
   ]
  },
  {
   "cell_type": "code",
   "execution_count": null,
   "metadata": {
    "_uuid": "00cc9705f363027bdb5c005a277eaedc1cb5a640"
   },
   "outputs": [],
   "source": [
    "from sklearn.neighbors import NearestNeighbors\n",
    "\n",
    "startlist=[0]\n",
    "neigh = NearestNeighbors(n_neighbors=1, n_jobs=-1)\n",
    "for i,m in enumerate(opoints.mclust[1:], 0):\n",
    "    neigh.fit(cities.loc[cities.mclust == m, ['X', 'Y']].values)\n",
    "    lastcenter = opoints.loc[i, ['X', 'Y']].values.reshape(1, -1)\n",
    "    closestart = neigh.kneighbors(lastcenter, return_distance=False)\n",
    "    start = cities.index[(cities.mclust == m) & (cities.clustorder == closestart.item())].values[0]\n",
    "    startlist.append(start)\n",
    "opoints['startpt'] = startlist    "
   ]
  },
  {
   "cell_type": "code",
   "execution_count": null,
   "metadata": {
    "_uuid": "9d6def2e3efb35e9e21892dcc526891e7ce6d9f7",
    "scrolled": true
   },
   "outputs": [],
   "source": [
    "stoplist = []\n",
    "for i,m in enumerate(opoints.mclust, 1):\n",
    "    neigh.fit(cities.loc[cities.mclust == m, ['X', 'Y']].values)\n",
    "    if m != opoints.mclust.values[-1]:\n",
    "        nextstartnode = opoints.loc[i, 'startpt']\n",
    "    else: \n",
    "        nextstartnode = 0\n",
    "    nextstart = cities.loc[nextstartnode, ['X', 'Y']].values.reshape(1, -1)\n",
    "    closestop = neigh.kneighbors(nextstart, return_distance=False)\n",
    "    stop = cities.index[(cities.mclust == m) & (cities.clustorder == closestop.item())].values[0]\n",
    "    stoplist.append(stop)\n",
    "opoints['stoppt'] = stoplist \n",
    "\n",
    "display(cities.head(), opoints.head())"
   ]
  },
  {
   "cell_type": "markdown",
   "metadata": {
    "_uuid": "b35135eb564c9d8652536927b10a50c144952109"
   },
   "source": [
    " Here's what  the new path looks like. The points are all on cluster borders which makes sense."
   ]
  },
  {
   "cell_type": "code",
   "execution_count": null,
   "metadata": {
    "_uuid": "da3216cbc2d34821c2019eb3b637ad50957c7cbf"
   },
   "outputs": [],
   "source": [
    "coords = cities.loc[opoints.stoppt, ['X', 'Y', 'mclust']]\n",
    "stops = plot_it(coords, 30, 'darkblue', 0.5)\n",
    "stopsline = coords.hvplot.line('X', 'Y', xlim=(0,5100), ylim=(0,3400), color='green', width=500, \n",
    "                            height=450, hover=False) \n",
    "stopsline*npole*gausses*stops"
   ]
  },
  {
   "cell_type": "markdown",
   "metadata": {
    "_uuid": "b1e82bb39c15e2afd3eb6c08af715dd0134e76f0"
   },
   "source": [
    "## Optimal Segments for each Cluster\n",
    "The next step is to iterate through clusters with the solver. The closed form of the solver with start and stop points is being difficult. For now I'll use start points only and take the hit of doubling back to the next cluster.\n"
   ]
  },
  {
   "cell_type": "code",
   "execution_count": null,
   "metadata": {
    "_kg_hide-output": true,
    "_uuid": "aea93a276305ecc429c70864756532d162fb00df",
    "scrolled": false
   },
   "outputs": [],
   "source": [
    "%%time \n",
    "num_iters = 100\n",
    "seglist = []\n",
    "total_clusts = cities.shape[0]\n",
    "for i,m in enumerate(opoints.mclust):\n",
    "    district = cities[cities.mclust == m]\n",
    "    print(\"begin cluster {}, {} of {}\".format(m, i, opoints.shape[0]-1))\n",
    "\n",
    "    clstart = opoints.loc[i, 'startpt']\n",
    "    nnode = district.loc[clstart, 'clustorder']\n",
    "    clstop = opoints.loc[i, 'stoppt']\n",
    "    pnode = district.loc[clstop, 'clustorder']\n",
    "    locations = district[['X', 'Y']].values\n",
    "    \n",
    "    segnodes = get_route(locations, nnode, pnode, fixed=False) #output is type list\n",
    "    ord_district =  district.iloc[segnodes]\n",
    "    segment = ord_district.index.tolist()\n",
    "    seglist.append(segment)\n",
    "\n",
    "seglist.append([0])\n",
    "path = np.concatenate(seglist)"
   ]
  },
  {
   "cell_type": "code",
   "execution_count": null,
   "metadata": {
    "_uuid": "b7ab2480a9072136d63d9feb784de2cbe20d423d"
   },
   "outputs": [],
   "source": [
    "bestpath = cities.loc[path, ['X', 'Y']]\n",
    "clustline = bestpath.hvplot.line('X', 'Y', xlim=(0,5100), ylim=(0,3400), width=500, \n",
    "                            height=450, datashade=True, dynspread=True) \n",
    "clustline*npole"
   ]
  },
  {
   "cell_type": "code",
   "execution_count": null,
   "metadata": {
    "_uuid": "1d19d71bfff47e7115255067ab8ec6ce4e1f4cde"
   },
   "outputs": [],
   "source": [
    "def score_it(path):\n",
    "    path_df = cities.reindex(path).reset_index()\n",
    "    path_df['step'] = np.sqrt((path_df.X - path_df.X.shift())**2 + (path_df.Y - path_df.Y.shift())**2)\n",
    "    path_df['step_adj'] = np.where((path_df.index) % 10 != 0, path_df.step, path_df.step + \n",
    "                            path_df.step*0.1*(~path_df.CityId.shift().isin(pnums)))\n",
    "    return path_df.step_adj.sum()\n",
    "\n",
    "display(score_it(path))\n",
    "\n",
    "sub = pd.read_csv('../input/sample_submission.csv')\n",
    "sub['Path'] = path\n",
    "sub.to_csv('submission.csv', index=False)\n",
    "sub.head()"
   ]
  },
  {
   "cell_type": "markdown",
   "metadata": {
    "_uuid": "a09ab7273a21328a4ad43341e4073aed60b11283"
   },
   "source": [
    "Not bad, even with the wasted moves although it does take a while to run. It would be interesting to see what improvements come with a fixed-route model, fewer clusters and/or longer run times. All for now!"
   ]
  }
 ],
 "metadata": {
  "kernelspec": {
   "display_name": "Python 3",
   "language": "python",
   "name": "python3"
  },
  "language_info": {
   "codemirror_mode": {
    "name": "ipython",
    "version": 3
   },
   "file_extension": ".py",
   "mimetype": "text/x-python",
   "name": "python",
   "nbconvert_exporter": "python",
   "pygments_lexer": "ipython3",
   "version": "3.6.4"
  }
 },
 "nbformat": 4,
 "nbformat_minor": 1
}
