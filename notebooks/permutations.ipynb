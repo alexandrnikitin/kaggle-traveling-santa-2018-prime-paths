{
 "cells": [
  {
   "cell_type": "code",
   "execution_count": 3,
   "metadata": {},
   "outputs": [],
   "source": [
    "import numpy as np\n",
    "import pandas as pd\n",
    "from sympy import primerange\n",
    "from sympy.utilities.iterables import multiset_permutations\n",
    "from multiprocessing import Pool, cpu_count\n",
    "import numba\n",
    "from sympy import isprime\n",
    "from math import sqrt"
   ]
  },
  {
   "cell_type": "code",
   "execution_count": 4,
   "metadata": {},
   "outputs": [],
   "source": [
    "cities = pd.read_csv('../data/raw/cities.csv', index_col=['CityId'], dtype={'X': np.float32, 'Y': np.float32})"
   ]
  },
  {
   "cell_type": "code",
   "execution_count": 5,
   "metadata": {},
   "outputs": [],
   "source": [
    "XY = np.stack((cities.X.astype(np.float32), cities.Y.astype(np.float32)), axis=1)\n",
    "is_not_prime = np.array([not isprime(city_id) for city_id in cities.index], dtype=np.int32)\n",
    "\n",
    "@numba.jit('f8(i8[:])', nopython=True, parallel=False)\n",
    "def pure_score(path):\n",
    "    '''Pure path score without penalties.'''\n",
    "    dist = 0.0\n",
    "    for i in numba.prange(path.shape[0] - 1):\n",
    "        a, b = XY[path[i]], XY[path[i+1]]\n",
    "        dx, dy = a[0] - b[0], a[1] - b[1]\n",
    "        dist += sqrt(dx * dx + dy * dy)\n",
    "    return dist\n",
    "\n",
    "\n",
    "@numba.jit('f8(i4, i8[:])', nopython=True, parallel=False)\n",
    "def chunk_score(start_offset, chunk):\n",
    "    '''Score of path's chunk that starts at index 'start_offset'.'''\n",
    "    dist = 0.0\n",
    "    penalty = 0.0\n",
    "    penalty_modulo = 9 - start_offset % 10\n",
    "    for i in numba.prange(chunk.shape[0] - 1):\n",
    "        id_a = chunk[i]\n",
    "        a, b = XY[id_a], XY[chunk[i+1]]\n",
    "        dx, dy = a[0] - b[0], a[1] - b[1]\n",
    "        d = sqrt(dx * dx + dy * dy)\n",
    "        dist += d\n",
    "        if i % 10 == penalty_modulo and is_not_prime[id_a]:\n",
    "            penalty += d\n",
    "    return dist + 0.1 * penalty\n",
    "\n",
    "\n",
    "@numba.jit('f8(i8[:])', nopython=True, parallel=False)\n",
    "def path_score(path):\n",
    "    return chunk_score(0, path)"
   ]
  },
  {
   "cell_type": "code",
   "execution_count": 6,
   "metadata": {
    "_uuid": "67f84a9f3cce0b47eb67f87c3d488a848e93b636"
   },
   "outputs": [
    {
     "data": {
      "text/plain": [
       "1515572.4502716302"
      ]
     },
     "execution_count": 6,
     "metadata": {},
     "output_type": "execute_result"
    }
   ],
   "source": [
    "tour = pd.read_csv('submission.151557248.csv')['Path'].values\n",
    "path_score(tour)"
   ]
  },
  {
   "cell_type": "code",
   "execution_count": 7,
   "metadata": {},
   "outputs": [],
   "source": [
    "def riffle2(batch, i, permutations):\n",
    "    best = batch\n",
    "    best_score = chunk_score(i, best)\n",
    "    for p in permutations:\n",
    "        perm = batch[p]\n",
    "        perm_score = chunk_score(i, perm)\n",
    "        if perm_score < best_score:\n",
    "#             print(str(best_score) +\" ---> \"+str(perm_score))\n",
    "            best = perm\n",
    "            best_score = perm_score\n",
    "    if (best != batch).any():\n",
    "        return best\n",
    "    else:\n",
    "        return None"
   ]
  },
  {
   "cell_type": "code",
   "execution_count": 23,
   "metadata": {},
   "outputs": [],
   "source": [
    "def riffle(split_tour1):\n",
    "    order, batch, step, nperms = split_tour1\n",
    "    n = nperms + 2\n",
    "    permutations = np.array([np.array([0]+i+[nperms+1]) for i in multiset_permutations(np.arange(1, nperms+1))])\n",
    "    for i in range(0, batch.size-n):\n",
    "        if (i + n >= batch.size): break\n",
    "        r = riffle2(batch[i:i+n], order * step + i, permutations)\n",
    "        if r is not None:\n",
    "#             print(r,i)\n",
    "#             print(batch[i:i+n])\n",
    "#             print(r)\n",
    "            score_old = chunk_score(order * step, batch)\n",
    "            batch_new = np.concatenate((batch[:i], r, batch[i+n:]))\n",
    "            score_new = chunk_score(order * step, batch_new)\n",
    "            if (score_new < score_old):\n",
    "                batch = batch_new\n",
    "                print(str(score_old) + \" -> \" + str(score_new))\n",
    "    return [order, batch]"
   ]
  },
  {
   "cell_type": "code",
   "execution_count": 58,
   "metadata": {
    "_uuid": "1ce29df9870bed437198b2b6bc96beb09133da7e"
   },
   "outputs": [],
   "source": [
    "def multi_riffle(tour, ncores, step, nperms):\n",
    "    p = Pool(ncores)\n",
    "    t = [tour[i*step:(i+1)*step] for i in range(0,(tour.size//step)+1)]\n",
    "    t = [(i,t,step,nperms) for i, t in enumerate(t)]\n",
    "    ret = p.map(riffle, t)\n",
    "\n",
    "    ret_d = {}\n",
    "    for i in range(len(ret)):\n",
    "        ret_d[ret[i][0]] = ret[i][1]\n",
    "    ret2 = []\n",
    "    for i in range(len(ret_d)):\n",
    "        ret2 += list(ret_d[i])\n",
    "    return ret2"
   ]
  },
  {
   "cell_type": "code",
   "execution_count": 59,
   "metadata": {
    "_uuid": "794bb9a1475e55737707efdbaf7ba570bf3edf3e",
    "scrolled": false
   },
   "outputs": [
    {
     "name": "stdout",
     "output_type": "stream",
     "text": [
      "CPU times: user 418 ms, sys: 103 ms, total: 521 ms\n",
      "Wall time: 22 s\n"
     ]
    }
   ],
   "source": [
    "# %%time\n",
    "step = 100\n",
    "nperms=3\n",
    "ncores=2\n",
    "tour_new = multi_riffle(tour, ncores, step, nperms)"
   ]
  },
  {
   "cell_type": "code",
   "execution_count": 60,
   "metadata": {},
   "outputs": [],
   "source": [
    "pd.DataFrame({'Path': list(tour_new)}).to_csv('submission.csv', index=False)"
   ]
  },
  {
   "cell_type": "code",
   "execution_count": 61,
   "metadata": {},
   "outputs": [
    {
     "data": {
      "text/plain": [
       "1515572.4502716302"
      ]
     },
     "execution_count": 61,
     "metadata": {},
     "output_type": "execute_result"
    }
   ],
   "source": [
    "path_score(np.array(tour_new, dtype=np.int64))"
   ]
  },
  {
   "cell_type": "code",
   "execution_count": null,
   "metadata": {},
   "outputs": [],
   "source": []
  }
 ],
 "metadata": {
  "kernelspec": {
   "display_name": "Python 3",
   "language": "python",
   "name": "python3"
  },
  "language_info": {
   "codemirror_mode": {
    "name": "ipython",
    "version": 3
   },
   "file_extension": ".py",
   "mimetype": "text/x-python",
   "name": "python",
   "nbconvert_exporter": "python",
   "pygments_lexer": "ipython3",
   "version": "3.6.4"
  }
 },
 "nbformat": 4,
 "nbformat_minor": 1
}
